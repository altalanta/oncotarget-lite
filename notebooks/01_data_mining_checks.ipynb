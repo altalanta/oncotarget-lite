{
 "cells": [
  {
   "cell_type": "markdown",
   "id": "7fb27b941602401d91542211134fc71a",
   "metadata": {},
   "source": [
    "# 01 · Data Mining Checks\n",
    "Synthetic GTEx/TCGA/DepMap slices validation and exploratory summaries."
   ]
  },
  {
   "cell_type": "code",
   "execution_count": null,
   "id": "acae54e37e7d407bbb7b55eff062a284",
   "metadata": {},
   "outputs": [],
   "source": [
    "from oncotarget.io import load_raw_data, merge_gene_feature_table\n",
    "\n",
    "bundle = load_raw_data()\n",
    "merged = merge_gene_feature_table(bundle)\n",
    "merged.head()\n"
   ]
  },
  {
   "cell_type": "code",
   "execution_count": null,
   "id": "9a63283cbaf04dbcab1f6479b197f3a8",
   "metadata": {},
   "outputs": [],
   "source": [
    "len(bundle.gtex['gene'].unique()), len(bundle.tcga['gene'].unique()), merged.shape\n"
   ]
  },
  {
   "cell_type": "code",
   "execution_count": null,
   "id": "8dd0d8092fe74a7c96281538738b07e2",
   "metadata": {},
   "outputs": [],
   "source": [
    "merged.filter(like='normal_').describe().T[['mean', 'min', 'max']]\n"
   ]
  },
  {
   "cell_type": "code",
   "execution_count": null,
   "id": "72eea5119410473aa328ad9291626812",
   "metadata": {},
   "outputs": [],
   "source": [
    "merged.filter(like='dep_').describe().T[['mean', 'min', 'max']]\n"
   ]
  }
 ],
 "metadata": {
  "kernelspec": {
   "display_name": "Python 3 (oncotarget-lite)",
   "language": "python",
   "name": "python3"
  },
  "language_info": {
   "name": "python",
   "version": "3.11"
  }
 },
 "nbformat": 4,
 "nbformat_minor": 5
}