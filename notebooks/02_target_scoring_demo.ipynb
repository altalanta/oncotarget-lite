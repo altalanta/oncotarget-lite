{
  "cells": [
    {
      "cell_type": "markdown",
      "metadata": {},
      "source": [
        "# 02 \u00b7 Target Scoring Demo\n",
        "Weighted scorecard to surface immunotherapy-friendly genes."
      ]
    },
    {
      "cell_type": "code",
      "execution_count": null,
      "metadata": {},
      "outputs": [],
      "source": [
        "from oncotarget.io import merge_gene_feature_table\n",
        "from oncotarget.features import create_feature_matrix\n",
        "from oncotarget.scoring import score_candidates, explain_gene_score\n",
        "\n",
        "merged = merge_gene_feature_table()\n",
        "feature_matrix = create_feature_matrix(merged)\n",
        "scores = score_candidates(feature_matrix.features, feature_matrix.labels)\n",
        "scores.head()\n"
      ]
    },
    {
      "cell_type": "code",
      "execution_count": null,
      "metadata": {},
      "outputs": [],
      "source": [
        "top_targets = scores.head(5)\n",
        "top_targets[['score', 'rank']]\n"
      ]
    },
    {
      "cell_type": "code",
      "execution_count": null,
      "metadata": {},
      "outputs": [],
      "source": [
        "gene = top_targets.index[0]\n",
        "explain_gene_score(gene, scores)\n"
      ]
    },
    {
      "cell_type": "code",
      "execution_count": null,
      "metadata": {},
      "outputs": [],
      "source": [
        "from pathlib import Path\n",
        "report_path = Path('../reports/example_target_report.md')\n",
        "lines = [\n",
        "    f    'This report is generated from synthetic data; use for pedagogy only.\\n',\n",
        "    '## Scorecard breakdown\\n',\n",
        "    str(explain_gene_score(gene, scores)),\n",
        "]\n",
        "report_path.write_text('\n'.join(lines), encoding='utf-8')\n",
        "report_path\n"
      ]
    }
  ],
  "metadata": {
    "kernelspec": {
      "display_name": "Python 3 (oncotarget-lite)",
      "language": "python",
      "name": "python3"
    },
    "language_info": {
      "name": "python",
      "version": "3.11"
    }
  },
  "nbformat": 4,
  "nbformat_minor": 5
}