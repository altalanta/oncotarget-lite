{
 "cells": [
  {
   "cell_type": "markdown",
   "id": "7fb27b941602401d91542211134fc71a",
   "metadata": {},
   "source": [
    "# 03 · Model Training\n",
    "Train a small PyTorch MLP and evaluate calibration."
   ]
  },
  {
   "cell_type": "code",
   "execution_count": null,
   "id": "acae54e37e7d407bbb7b55eff062a284",
   "metadata": {},
   "outputs": [],
   "source": [
    "from oncotarget.eval import classification_summary, compute_reliability_curve, summarize_bootstrap\n",
    "from oncotarget.features import create_feature_matrix\n",
    "from oncotarget.io import merge_gene_feature_table\n",
    "from oncotarget.model import MLPConfig, train_mlp\n",
    "\n",
    "merged = merge_gene_feature_table()\n",
    "feature_matrix = create_feature_matrix(merged)\n",
    "metrics, model = train_mlp(feature_matrix.features, feature_matrix.labels, MLPConfig(epochs=100, patience=10))\n",
    "metrics\n"
   ]
  },
  {
   "cell_type": "code",
   "execution_count": null,
   "id": "9a63283cbaf04dbcab1f6479b197f3a8",
   "metadata": {},
   "outputs": [],
   "source": [
    "import torch\n",
    "\n",
    "with torch.no_grad():\n",
    "    logits = model(torch.tensor(feature_matrix.features.values, dtype=torch.float32))\n",
    "    probs = torch.sigmoid(logits).numpy().squeeze()\n",
    "y_true = feature_matrix.labels.astype(int).to_numpy()\n",
    "classification_summary(y_true, probs)\n"
   ]
  },
  {
   "cell_type": "code",
   "execution_count": null,
   "id": "8dd0d8092fe74a7c96281538738b07e2",
   "metadata": {},
   "outputs": [],
   "source": [
    "bootstrap = summarize_bootstrap(y_true, probs, n_bootstraps=64)\n",
    "{k: v.__dict__ for k, v in bootstrap.items()}\n"
   ]
  },
  {
   "cell_type": "code",
   "execution_count": null,
   "id": "72eea5119410473aa328ad9291626812",
   "metadata": {},
   "outputs": [],
   "source": [
    "calibration_df = compute_reliability_curve(y_true, probs)\n",
    "calibration_df\n"
   ]
  }
 ],
 "metadata": {
  "kernelspec": {
   "display_name": "Python 3 (oncotarget-lite)",
   "language": "python",
   "name": "python3"
  },
  "language_info": {
   "name": "python",
   "version": "3.11"
  }
 },
 "nbformat": 4,
 "nbformat_minor": 5
}