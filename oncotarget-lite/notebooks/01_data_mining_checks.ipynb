{
  "cells": [
    {
      "cell_type": "markdown",
      "metadata": {},
      "source": [
        "# 01 \u00b7 Data Mining Checks\n",
        "Synthetic GTEx/TCGA/DepMap slices validation and exploratory summaries."
      ]
    },
    {
      "cell_type": "code",
      "execution_count": null,
      "metadata": {},
      "outputs": [],
      "source": [
        "from pathlib import Path\n",
        "import pandas as pd\n",
        "from oncotarget.io import load_raw_data, merge_gene_feature_table\n",
        "\n",
        "bundle = load_raw_data()\n",
        "merged = merge_gene_feature_table(bundle)\n",
        "merged.head()\n"
      ]
    },
    {
      "cell_type": "code",
      "execution_count": null,
      "metadata": {},
      "outputs": [],
      "source": [
        "len(bundle.gtex['gene'].unique()), len(bundle.tcga['gene'].unique()), merged.shape\n"
      ]
    },
    {
      "cell_type": "code",
      "execution_count": null,
      "metadata": {},
      "outputs": [],
      "source": [
        "merged.filter(like='normal_').describe().T[['mean', 'min', 'max']]\n"
      ]
    },
    {
      "cell_type": "code",
      "execution_count": null,
      "metadata": {},
      "outputs": [],
      "source": [
        "merged.filter(like='dep_').describe().T[['mean', 'min', 'max']]\n"
      ]
    }
  ],
  "metadata": {
    "kernelspec": {
      "display_name": "Python 3 (oncotarget-lite)",
      "language": "python",
      "name": "python3"
    },
    "language_info": {
      "name": "python",
      "version": "3.11"
    }
  },
  "nbformat": 4,
  "nbformat_minor": 5
}